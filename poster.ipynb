{
  "cells": [
    {
      "metadata": {},
      "cell_type": "markdown",
      "source": "[SciPy 2020](https://github.com/dpploy/scipy-2020) [https://github.com/dpploy/scipy-2020] : A. Rotker and V. F. de Almeida **06Jul20**\n\n## Balance of Plant Network Simulation for a Boiling Water Nuclear Reactor\n\n$\n  \\newcommand{\\Amtrx}{\\boldsymbol{\\mathsf{A}}}\n  \\newcommand{\\Bmtrx}{\\boldsymbol{\\mathsf{B}}}\n  \\newcommand{\\Cmtrx}{\\boldsymbol{\\mathsf{C}}}\n  \\newcommand{\\Mmtrx}{\\boldsymbol{\\mathsf{M}}}\n  \\newcommand{\\Imtrx}{\\boldsymbol{\\mathsf{I}}}\n  \\newcommand{\\Pmtrx}{\\boldsymbol{\\mathsf{P}}}\n  \\newcommand{\\Qmtrx}{\\boldsymbol{\\mathsf{Q}}}\n  \\newcommand{\\Lmtrx}{\\boldsymbol{\\mathsf{L}}}\n  \\newcommand{\\Umtrx}{\\boldsymbol{\\mathsf{U}}}\n  \\newcommand{\\xvec}{\\boldsymbol{\\mathsf{x}}}\n  \\newcommand{\\yvec}{\\boldsymbol{\\mathsf{y}}}\n  \\newcommand{\\zvec}{\\boldsymbol{\\mathsf{z}}}\n  \\newcommand{\\avec}{\\boldsymbol{\\mathsf{a}}}\n  \\newcommand{\\bvec}{\\boldsymbol{\\mathsf{b}}}\n  \\newcommand{\\cvec}{\\boldsymbol{\\mathsf{c}}}\n  \\newcommand{\\rvec}{\\boldsymbol{\\mathsf{r}}}\n  \\newcommand{\\norm}[1]{\\bigl\\lVert{#1}\\bigr\\rVert}\n  \\DeclareMathOperator{\\rank}{rank}\n  \\DeclareMathOperator{\\abs}{abs}\n$"
    },
    {
      "metadata": {},
      "cell_type": "markdown",
      "source": "---\n## Table of Contents\n* [Objectives](#obj)\n* [Introduction](#intro)\n* [Problem Statement](#ps)\n* [Steady state](#ss)\n* [Vector ODE System](#vodes)\n* [Function library](#flib)\n* [One-Group Energy Neutron Balance](#nbal)\n* [Balance of Plant](#bop)\n* [Plant Startup Results](#res1)\n\n---"
    },
    {
      "metadata": {},
      "cell_type": "markdown",
      "source": "## Objectives<a id=\"obj\"></a>\n+ Use one-group energy, two-temperature, point-reactor dynamics modeling (six-group delayed neutron emitters) to obtain insight on neutron density behavior with time-dependent reactivity of a Boiling Water Reactor during startup, steady-state operation and shutdown.\n+ Explore and understand intrinsic temperature reactivity coefficient feedback from nuclear sources."
    },
    {
      "metadata": {},
      "cell_type": "markdown",
      "source": "## Problem Statement<a id=\"ps\"></a>\n\nConsider a boiling water reactor, with UO$_2$ fuel and a light water moderator and coolant.\nGiven the neutron generation time $\\ell$, delayed neutron fraction, $\\beta$, decay constants of a six-group delayed neutron emitters, $\\lambda_i$, and corresponding yield of delayed neutron fractions for each emitter, $\\beta_i$, calculate the pointwise neutron density variation with time for **varying** neutron reactivity, $\\rho(t)$."
    },
    {
      "metadata": {},
      "cell_type": "markdown",
      "source": "## One-Group Energy  Neutron Balance<a id=\"nbal\"></a>\n\nThe space-invariant neutron balance for the point-reactor model is\n\n\\begin{equation*}\n\\frac{\\text{d}n}{\\text{d}t}  = \\frac{\\rho(t)-\\beta}{\\ell}\\, n + \\sum\\limits_{i=1}^{6} \\lambda_i\\,c_i  + q(t),\n\\end{equation*}\n\nwhere the first term on the right side of the equation represents the net production of neutrons not accounting for delayed neutrons, and the second term accounts for the source of delayed neutrons considering 6 groups of delayed neutron emitters resulting from the fission of $^{235}$U nuclei. Therefore a balance of neutron emitter species is also necessary\n\n\\begin{equation*}\n\\frac{\\text{d}c_i}{\\text{d}t}  = \\frac{\\beta_i}{\\ell}\\, n - \\lambda_i\\,c_i ,\n     \\ \\ \\ \\ \\ \\forall \\ \\ \\ \\ \\  i=1,\\ldots,6.\n\\end{equation*}\n\nwhere the first term on the right side of the equation is the source of emitters as a function of the neutron number density $n(t)$, and the second term is the consumption rate of the emitter by radioactive decay obtained as a function of the product of the number concentration of the emmiter, $c_i(t)$, multiplied by its decay constant $\\lambda_i$. Here the number concentration of of the $i$th emitter, $c_i$ is considered in terms of delayed neutron number density, hence the units are the same as $n$.\n\nThe current model considers the temperature reactivity coefficient, $\\alpha_{T_n}$, that is, \n\n\\begin{equation*}\n \\rho(t) = \\rho_0 + \\alpha_{T_n}(T_f)\\,\\bigl(T_f(t) - T^{(0)}\\bigr),\n\\end{equation*}\n\n\nA heat balance in the static fuel dispersed into the moderator gives\n\n\\begin{equation*}\n\\frac{\\text{d}T_f}{\\text{d}t} = - \\frac{1}{\\rho_f\\,c_{pf}}\\biggl(q^{'''}(t) - \\frac{\\dot{Q}_\\text{f}}{V_f} \\biggr) \n\\end{equation*}\n\nwhere the heat rate sink in the fuel/moderator is \n\n\\begin{equation*}\n{\\dot{Q}_\\text{f}} = -UA\\bigl(T_f-T_c\\bigr), \n\\end{equation*}\n\nand the nuclear heating power is given by\n\n\\begin{equation*}\nq^{'''}(t) = G_f\\frac{\\sqrt{\\pi}}{2}\\,\\sigma_\\text{fo}\\,\\sqrt{\\frac{T^\\text{(o)}}{T}}\\,\\biggl(\\frac{\\epsilon\\,w_\\text{fs}\\,\\rho_\\text{fm}}{M_\\text{fn}}\\,i\\,N_A\\biggr)\\,n(t)\\,v_\\text{(o)} .\n\\end{equation*}\n\nA heat balance in the flowing coolant fluid produces\n\n\\begin{equation*}\n\\frac{\\text{d}T_c}{\\text{d}t} = -\\frac{1}{\\tau_c}\\biggl(T_c-T_{in}\\biggr)  \n                                - \\frac{1}{\\rho_c\\,c_{pc}}\\biggl( \\frac{\\dot{Q}_\\text{f}}{V_c} \\biggr) \n\\end{equation*}\n\nwhere the heat rate source is the negative of the heat rate sink in the fuel/moderator."
    },
    {
      "metadata": {},
      "cell_type": "markdown",
      "source": "## Steady State<a id=\"ss\"></a>\n\nNeutron density and delayed neutron precursor concentrations are related as follows:\n\n\\begin{align*}\nn_\\text{ss}  &= -\\frac{q_\\text{ss}\\,\\ell }{\\rho_\\text{ss} }\n\\\\\nc_{i_\\text{ss}}  &= \\frac{\\beta_i}{\\lambda_i\\,\\ell}\\, n_\\text{ss}   \\ \\ \\ \\ \\forall \\ \\ \\ \\ i=1,\\ldots,6 .\n\\end{align*}"
    },
    {
      "metadata": {},
      "cell_type": "markdown",
      "source": "## Vector ODE System<a id=\"vodes\"></a>\n\nA vector notation for the foregoing system of equations greatly improves the generality of the derived computer code. Towards this goal let us define\n\n\\begin{equation*}\n\\frac{d\\uvar}{dt} = \\fvar( \\uvar, t )\n\\end{equation*}\n\nwhere $\\uvar(t) = (u_1,u_2,u_3,u_4,u_5,u_6,u_7)$ is the state vector and we assign \n\n\\begin{align*}\n u_1(t)&=n(t),\\\\\n u_2(t)&=c_1(t),\\\\\n u_3(t)&=c_2(t),\\\\\n u_4(t)&=c_3(t),\\\\\n u_5(t)&=c_4(t),\\\\\n u_6(t)&=c_5(t),\\\\\n u_7(t)&=c_6(t),\\\\\n u_8(t)&=T_f(t),\\\\\n u_9(t)&=T_c(t).\n\\end{align*}\n\nAlso for $\\fvar(\\uvar,t) = \\bigl(f_1(\\uvar,t), f_2(\\uvar,t), f_3(\\uvar,t), f_4(\\uvar,t), f_5(\\uvar,t), f_6(\\uvar,t), f_7(\\uvar,t)\\bigr)$ we assign \n\n\\begin{align*}\n f_1 & = \\frac{\\rho(t)-\\beta}{\\ell}\\, u_1 + \\sum\\limits_{i=2}^{7} \\lambda_i\\,u_i + q(t), \\\\\n f_2 & = \\frac{\\beta_1}{\\ell}\\, u_1 - \\lambda_1\\,u_2, \\\\\n f_3 & = \\frac{\\beta_2}{\\ell}\\, u_1 - \\lambda_2\\,u_3, \\\\\n f_4 & = \\frac{\\beta_3}{\\ell}\\, u_1 - \\lambda_3\\,u_4, \\\\\n f_5 & = \\frac{\\beta_4}{\\ell}\\, u_1 - \\lambda_4\\,u_5, \\\\\n f_6 & = \\frac{\\beta_5}{\\ell}\\, u_1 - \\lambda_5\\,u_6, \\\\\n f_7 & = \\frac{\\beta_6}{\\ell}\\, u_1 - \\lambda_6\\,u_7,  \\\\\n f_8 & = - \\frac{1}{\\rho_f\\,c_{pf}}\\biggl(q^{'''}(t) - \\frac{\\dot{Q}_\\text{f}}{V_f} \\biggr), \\\\\n f_9 & = -\\frac{1}{\\tau_c}\\biggl(T_c-T_{in}\\biggr)  \n                                - \\frac{1}{\\rho_c\\,c_{pc}}\\biggl( \\frac{\\dot{Q}_\\text{f}}{V_c} \\biggr).\n\\end{align*}\n\nFinally, the initial conditions given are as follows:\n\n\\begin{align*}\n u_1(0)&=n_0,\\\\\n u_2(0)&=c_{1_0},\\\\\n u_3(0)&=c_{2_0},\\\\\n u_4(0)&=c_{3_0},\\\\\n u_5(0)&=c_{4_0},\\\\\n u_6(0)&=c_{5_0},\\\\\n u_7(0)&=c_{6_0},\\\\\n u_8(0)&=T_{f_0},\\\\\n u_9(0)&=T_{c_0}\n\\end{align*}\n\n\nwhere $n_0$ and $c_{i_0}$ are initial values for the unknowns given by the problem specification."
    },
    {
      "metadata": {},
      "cell_type": "markdown",
      "source": "## Reactivity Feedback\nThe moderator temperature reactivity coefficient is the major contributor to the power coefficient in a boiling water reactor. The power coefficient determines the feedback effect of increasing the power generated by the reactor (and therefore neutron density as well as heat generation). Generally, we see that increasing power will lead to an increase in the temperature of the water used to moderate the reactor. This will reduce the density of the water, and therefore its effectiveness as a moderator. We would expect that this would lead to lower reactivity, and the equation developed below reflects this. We can estimate the numerical effects of moderator temperature on reactivity by using a linearization of the effect of increasing temperature on the neutron multiplecation factor (K), which is used to derive reactivity. \n\n\\begin{equation*}\n\\alpha_\\text{m} = \\frac{dK}{dT_\\text{m}}\\frac{1}{K}\\\n\\end{equation*}\n\nWhere $\\alpha_\\text{m}$ is the moderator temperature feedback coefficient, K is the neutron multiplecation factor for a finite medium, and $T_\\text{m}$ is the temperature of the moderator. K is calculated as follows:\n\n\\begin{equation*}\nK = \\frac{\\eta \\epsilon P F}{1 + (\\tau + L^2)B^2 + \\tau L^2 B^4}\n\\end{equation*}\n\nPlugging this in to the original moderator temperature reactivity coefficient equation leaves the following differential equation:\n\n\\begin{equation*}\n\\alpha_\\text{m} = \\frac{d}{dT_\\text{m}}\\frac{1 + (\\tau + L^2)B^2 + \\tau L^2 B^4}{\\eta \\epsilon P F}\\\n\\end{equation*}\n\nWith $\\tau$ being the fermi age or slowing down area, $L$ being the neutron diffusion length, $B$ being buckling, $\\eta$ being neutron yield, $\\epsilon$ being fast fission factor, $P$ being resonance escape probability and $F$ being thermal utilization. Only $\\tau$, $P$ and $F$ vary significantly with moderator temperature, with $L$ and $B$ being assumed constants over the range of temperatures.\n\n$\\tau$ is found as follows:\n\n\\begin{equation*}\n\\tau = \\frac{D_\\text{f}}{\\Sigma_\\text{1}}\n\\end{equation*}\n\nwith $D_\\text{f}$ being the diffusion coefficient and equal to:\n\n\\begin{equation*}\nD_\\text{f} = \\frac{1}{3 \\Sigma_\\text{s}(1 - \\mu_\\text{0})}\n\\end{equation*}\n\nWith $\\Sigma_\\text{s}$ being the macroscopic scattering cross section, $\\sigma_\\text{s} N_\\text{m}$, and $\\mu_\\text{0}$ being a constant dependent on the material used as the moderator.\n\n$\\Sigma_\\text{1}$ is the neutron removal cross section, or the probability per unit length that a neutron becomes thermalized. It is calculated as:\n\n\\begin{equation*}\n\\Sigma_\\text{1} = \\frac{\\xi \\Sigma_\\text{s}}{ln \\frac{E_\\text{0}}{E_\\text{th}}}\n\\end{equation*}\n\nWith $\\xi$ being the average logarithmic energy decrement for a collision involving a neutron and the moderator (in the case of a light water reactor, $\\xi$ = 1), $E_\\text{0}$ being the energy of a neutron produced during fission (assumed to be constant at around 2 MeV), and $E_\\text{th}$ being the energy of the medium that the neutron is diffusing through, which is dependent on the temperature of the moderator by the following equation:\n\n\\begin{equation*}\nE_\\text{th} = (T_\\text{m})\\frac{0.0862 \\ MeV}{K}\n\\end{equation*}\n\nWith $T_\\text{m}$ being in kelvin.\n\nAssuming that only $N_text{m}$ and $E_\\text{th}$ vary with the temperature of the moderator, then the differential of $\\tau$ with respect to $T_\\text{m}$ may be calculated as follows:\n\n\\begin{equation*}\n\\frac{d \\tau}{d T_\\text{m}} = \\frac{d}{d T_\\text{m}} \\frac{\\frac{1}{3 \\sigma_\\text{s} N_\\text{m}(1 - \\mu_\\text{0})}}{\\frac{\\xi \\sigma_\\text{s} N_\\text{m}}{ln \\frac{E_\\text{0}}{E_\\text{th}}}}\n\\end{equation*}\n\n\\begin{equation*}\n\\frac{d \\tau}{d T_\\text{m}} = \\frac{((0.0862\\frac{E_\\text{th}}{E_\\text{0}})(3  N_\\text{m} )-(ln \\frac{E_\\text{0}}{E_\\text{th}})(6 \\frac{d N_\\text{m}}{d T_\\text{m}})}{(3 N_\\text{m})^2 (1 - \\mu_\\text{0})}\n\\end{equation*}\n\nNext, the diffusion area in the moderator before absorption, $L^2$, may be evaluated. It can be calculated through the following relation:\n\n\\begin{equation*}\nL^2 = \\frac{1}{3 \\Sigma_\\text{s} \\Sigma_\\text{a} (1 - \\mu_\\text{0})}\n\\end{equation*}\n\nAnd therefore:\n\n\\begin{equation*}\nL = \\sqrt{\\frac{1}{3 \\Sigma_\\text{s} \\Sigma_\\text{a} (1 - \\mu_\\text{0})}}\n\\end{equation*}\n\nNote that L is referred to as the diffsion length whereas L^2 is the diffusion area.\n\nTaking the derivative of the diffusion length, L, with respect to time, and noting that only the number density of the moderator varies with time, and that the macroscopic cross sections $\\Sigma$ can be rewritten as $\\sigma N_\\text{m}$, we obtain the differential of diffusion length with respect to time:\n\n\\begin{equation*}\n\\frac{dL}{dT_\\text{m}} =  \\frac{1}{2 \\sqrt{\\frac{-2 \\frac{dN_\\text{m}}{dT_\\text{m}}}{3 \\sigma_\\text{s} \\sigma_\\text{a} N_\\text{m}^3 (1 - \\mu_\\text{0})}}}\n\\end{equation*}\n\nNext, the terms in the four factor formula, $\\eta \\ , \\ \\epsilon \\ , \\ P, \\ F$ must be developed and the derivatives of the ones which vary with moderator temperature must be calculated.\n\n$\\eta$ and $\\epsilon$ do not vary with moderator temperature, and are assumed to have constant values of 2.02 and 1.03.\n\n$P$, the resonance escape, is calculated via the following equation:\n\n\\begin{equation*}\nP = e^{- \\frac{N_\\text{f} V_\\text{F} I}{\\xi \\Sigma_\\text{s  M} V_\\text{M}}}\n\\end{equation*}\n\nIn the above equation, $N_\\text{f}$ is the number density of the fuel, $V_\\text{F}$ is the volume of the fuel, $I$ is the resonance escape integral, and $V_\\text{M}$ is the volume occupied by the moderator.\n\nWith only the macroscopic scattering cross section of the moderator varrying with temperature of the moderator (volume of coolant in the core is assumed constant, only the density changes), the derivative of the resonance escape probability with respect to the temperature of the moderator can be calculated as:\n\n\\begin{equation*}\n\\frac{dP}{dT_\\text{m}} =  \\frac{-N_\\text{f} V_\\text{F} I \\sigma_\\text{s} \\frac{dN_\\text{m}}{dT_\\text{m}}}{(\\xi \\Sigma_\\text{s  M} V_\\text{M})^2}e^{- \\frac{N_\\text{f} V_\\text{F} I}{\\xi \\Sigma_\\text{s  M} V_\\text{M}}}\n\\end{equation*}\n\nThe thermal utilization, $F$, is calculated as follows:\n\n\\begin{equation*}\nF = \\frac{\\Sigma_\\text{aF}}{\\Sigma_\\text{aF} + \\Sigma_\\text{aM}}\n\\end{equation*}\n\nWith $\\Sigma_\\text{aF}$ being the macroscopic absorption cross section of the fuel and $\\Sigma_\\text{aM}$ being the macroscopic absorption cross section of the moderator. As only the macroscopic absorption cross section of the moderator will vary with the temperature of the moderator, the derivative of thermal utilization with respect to the temperature of the moderator can be written as follows:\n\n\\begin{equation*}\n\\frac{dF}{dT_\\text{m}} = \\frac{-(\\Sigma_\\text{aF})(\\sigma_\\text{aM} \\frac{dN_\\text{m}}{dT_\\text{m}})}{(\\Sigma_\\text{aF} + \\Sigma_\\text{aM})^2}\n\\end{equation*}\n\nThe final preliminary differential equation is the one that must be developed for the differential of the moderator number density with respect to the temperature of the moderator. The change in number density of the moderator with respect to temperature will be proportional to the change in the mass density of the moderator with respect to temperature, by the molar mass of the moderator (in this case, 18 g/mol) and avogadro's number. The derivative of the mass density with respect to the temperature of the moderator of water is a function of a forty term polynomial used by the IAPWS 97 standards to approximate the behavior of water at different temperatures and pressures, that is:\n\n\\begin{equation*}\n\\frac{d \\rho}{dT_\\text{m}} = \\frac{d}{dT_\\text{m}}(IAPWS(T))\n\\end{equation*}\n\nThe derivative can be approximated by using scipy's inbuilt differentiation function. From there, the differential of mass density with respect to moderator temperature may be related to the differential of number density with respect to moderator temperature by the molar mass and avogadro's number:\n\n\\begin{equation*}\n\\frac{dN_\\text{m}}{dT_\\text{m}} = (18 g/mol)(N_\\text{A})(\\frac{d \\rho}{dT_\\text{m}})\n\\end{equation*}\n\nNow that all previous relationships have been developed, the moderator temperature feedback coefficient can be calculated. Recall the original equation for the moderator temperature feedback coefficient:\n\n\\begin{equation*}\n\\alpha_\\text{m} = \\frac{d}{dT_\\text{m}}\\frac{1 + (\\tau + L^2)B^2 + \\tau L^2 B^4}{\\eta \\epsilon P F}\\\n\\end{equation*}\n\nTaking the derivatives with respect to moderator temperature yields the following differential:\n\n\\begin{equation*}\n\\alpha_\\text{m} = \\frac{(\\eta \\epsilon P F)((\\frac{d \\tau}{dT_\\text{m}})(B^2 + L^2 B^4)+(\\frac{dL}{dT_\\text{m}})(2L B^2 + 2L \\tau B^4))-(1 + (\\tau + L^2)B^2 + \\tau L^2 B^4)(\\eta \\epsilon)(F \\frac{dP}{dT_\\text{m}} + P \\frac{dF}{dT_\\text{m}})} {(\\eta \\epsilon P F)^2}\n\\end{equation*}"
    },
    {
      "metadata": {},
      "cell_type": "markdown",
      "source": "## Turbine Modelling <a id=\"bop\"></a>\nA boiling water reactor will typically use several different turbines, either designed to expand high-pressure steam drawn directly off the top of the reactor, or to expand lower-pressure runoff steam drawn from the high-pressure turbines. This is typically done to improve thermodynamic efficiency and avoid condensation of the steam within the turbines themselves. Our model contains a single high-pressure turbine which expands steam coming off the top of the reactor to around 5 bar; There are also two low-pressure turbines which expand the runoff from the high-pressure turbine to 0.05 bar. Both of these different types of turbine use the same general algorithm to determine runoff temperature and the amount of power the generate, shown below:\n\nWe start with a basic heat balance on the turbine:\n\n\\begin{equation*}\nQ + W_\\text{s} = \\Delta H + \\Delta K + \\Delta Z\n\\end{equation*}\n\nWith Q being the heat into or out of the system, W being the work done by the working fluid (and hence being positive if the turbine is producing useful work), and with $\\Delta$H, $\\Delta$K and $\\Delta$Z representing the changes in enthalpy, kinetic energy and gravitational potential energy of the fluid, respectively. It is assumed that the turbine operates adiabatically and with no change in the kinetic or gravitational potential energy of the fluid as it moves through the turbine. Hence, the equation reduces to:\n\n\\begin{equation*}\nW_\\text{s} = \\Delta H\n\\end{equation*}\n\nIf the turbine is producing useful work, then W is positive, and hence $\\Delta$H must be positive as well. The enthalpy of the fluid will decrease as it passes through the turbine and is expanded to a lower temperature and pressure, hence the equation can be rewritten as:\n\n\\begin{equation*}\nW_\\text{s} = \\Delta H = H_\\text{inlet} - H_\\text{outlet}\n\\end{equation*}\n\nIf conditions of the inlet steam are given, either being the same temperature and pressure of the steam leaving the top of the reactor (in the case of a high-pressure turbine), or having the runoff temperature and pressure of steam leaving a high-pressure turbine (in the case of a low-pressure turbine). The exit pressure of the steam leaving the turbine is similarly fixed by the design pressure of the turbine ($P_\\text{turbine}$, 5 bar in the case of a high-pressure turbine, 0.05 bar in the case of a low-pressure turbine).  Therefore, the above equation can be rewritten as:\n\n\\begin{equation*}\nW_\\text{s} = H_\\text{inlet}(T_\\text{inlet}, P_\\text{inlet}) - H_\\text{outlet}(T_\\text{runoff}, P_\\text{turbine})\n\\end{equation*}\n\nIt should be noted that the turbines are not assumed to operate isentropically, but instead at around 80% of the maximum isentropic work for any given steam inlet properties.\n\nWe denote the maximum possible isentropic work of the turbine, $W_\\text{isentropic}$, as the amount of work that would be done if the steam entering the turbine was expanded to a pressure $P_\\text{turbine}$ and a temperature which would give the same enthalpy as steam of temperature $T_\\text{inlet}$ and pressure $P_\\text{inlet}$.\n\n\\begin{equation*}\nW_\\text{isentropic} = H_\\text{inlet}(T_\\text{inlet}, P_\\text{inlet}) - H_\\text{outlet}(T_\\text{isentropic} ,P_\\text{turbine} )\n\\end{equation*}\n\nActual work performed by the turbine can then be determined by simply multiplying the known efficiency by the calculated isentropic work.\n\n\\begin{equation*}\nW_\\text{real} = 0.8 \\, W_\\text{isentropic}\n\\end{equation*}\n\nAnd, by an energy balance, we can calculate the ending enthalpy of the liquid runoff at $P_\\text{turbine}$, $H_\\text{real runoff}$:\n\n\\begin{equation*}\nH_\\text{real runoff}(T_\\text{real}, P_\\text{turbine}) = W_\\text{real} - H_\\text{inlet}(T_\\text{inlet}, P_\\text{inlet}) \n\\end{equation*}\n\nWith the ending enthalpy of the liquid runoff known, and its pressure fixed by the output pressure of the turbine, the runoff temperature of the liquid from the turbine can be calculated using the IAPWS97 backwards solver functions.\n"
    },
    {
      "metadata": {},
      "cell_type": "markdown",
      "source": "## The Condenser"
    },
    {
      "metadata": {},
      "cell_type": "markdown",
      "source": "## Import And Setup"
    },
    {
      "metadata": {
        "trusted": true
      },
      "cell_type": "code",
      "source": "",
      "execution_count": null,
      "outputs": []
    },
    {
      "metadata": {},
      "cell_type": "markdown",
      "source": "## Network Graph"
    },
    {
      "metadata": {
        "trusted": true
      },
      "cell_type": "code",
      "source": "",
      "execution_count": null,
      "outputs": []
    },
    {
      "metadata": {},
      "cell_type": "markdown",
      "source": "## Results <a id=\"res1\"></a>"
    },
    {
      "metadata": {},
      "cell_type": "markdown",
      "source": "### Neutron Density"
    },
    {
      "metadata": {
        "trusted": true
      },
      "cell_type": "code",
      "source": "",
      "execution_count": null,
      "outputs": []
    },
    {
      "metadata": {},
      "cell_type": "markdown",
      "source": "### Delayed Emitter Concentrations"
    },
    {
      "metadata": {
        "trusted": true
      },
      "cell_type": "code",
      "source": "",
      "execution_count": null,
      "outputs": []
    },
    {
      "metadata": {},
      "cell_type": "markdown",
      "source": "### Fuel Temperature"
    },
    {
      "metadata": {
        "trusted": true
      },
      "cell_type": "code",
      "source": "",
      "execution_count": null,
      "outputs": []
    },
    {
      "metadata": {},
      "cell_type": "markdown",
      "source": "### Moderator Temperature"
    },
    {
      "metadata": {
        "trusted": true
      },
      "cell_type": "code",
      "source": "",
      "execution_count": null,
      "outputs": []
    },
    {
      "metadata": {},
      "cell_type": "markdown",
      "source": "### High-Pressure Turbine Power"
    },
    {
      "metadata": {
        "trusted": true
      },
      "cell_type": "code",
      "source": "",
      "execution_count": null,
      "outputs": []
    },
    {
      "metadata": {},
      "cell_type": "markdown",
      "source": "### Low-Pressure Turbine Power"
    },
    {
      "metadata": {
        "trusted": true
      },
      "cell_type": "code",
      "source": "",
      "execution_count": null,
      "outputs": []
    },
    {
      "metadata": {},
      "cell_type": "markdown",
      "source": "### Condenser Outflow Temperature"
    },
    {
      "metadata": {
        "trusted": true
      },
      "cell_type": "code",
      "source": "",
      "execution_count": null,
      "outputs": []
    },
    {
      "metadata": {},
      "cell_type": "markdown",
      "source": "### Conclusions"
    }
  ],
  "metadata": {
    "kernelspec": {
      "name": "python3",
      "display_name": "Python 3",
      "language": "python"
    },
    "language_info": {
      "mimetype": "text/x-python",
      "nbconvert_exporter": "python",
      "name": "python",
      "pygments_lexer": "ipython3",
      "version": "3.5.4",
      "file_extension": ".py",
      "codemirror_mode": {
        "version": 3,
        "name": "ipython"
      }
    },
    "latex_envs": {
      "LaTeX_envs_menu_present": true,
      "autoclose": false,
      "autocomplete": true,
      "bibliofile": "biblio.bib",
      "cite_by": "apalike",
      "current_citInitial": 1,
      "eqLabelWithNumbers": true,
      "eqNumInitial": 1,
      "hotkeys": {
        "equation": "Ctrl-E",
        "itemize": "Ctrl-I"
      },
      "labels_anchors": false,
      "latex_user_defs": false,
      "report_style_numbering": false,
      "user_envs_cfg": false
    }
  },
  "nbformat": 4,
  "nbformat_minor": 2
}